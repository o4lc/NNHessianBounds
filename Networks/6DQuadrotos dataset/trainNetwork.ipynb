{
 "cells": [
  {
   "cell_type": "code",
   "execution_count": 1,
   "outputs": [
    {
     "name": "stderr",
     "output_type": "stream",
     "text": [
      "`polytope` failed to import `cvxopt.glpk`.\n",
      "will use `scipy.optimize.linprog`\n"
     ]
    }
   ],
   "source": [
    "#!/usr/bin/env python3\n",
    "# -*- coding: utf-8 -*-\n",
    "\"\"\"\n",
    "Created on Mon Jun  1 17:45:41 2020\n",
    "\n",
    "@author: mahyarfazlyab\n",
    "\"\"\"\n",
    "\n",
    "# import sys\n",
    "# sys.path.append(\"../Python/\")\n",
    "\n",
    "import numpy as np\n",
    "import torch\n",
    "import torch.nn as nn\n",
    "import torch.optim as optim\n",
    "from scipy.io import loadmat\n",
    "import scipy.io\n",
    "import os\n",
    "import pickle\n",
    "import matplotlib.pyplot as plt\n",
    "from NeuralNetwork import NeuralNetwork\n",
    "torch.set_printoptions(precision=8)"
   ],
   "metadata": {
    "collapsed": false,
    "pycharm": {
     "name": "#%%\n"
    }
   }
  },
  {
   "cell_type": "code",
   "execution_count": 3,
   "outputs": [],
   "source": [
    "x = scipy.io.loadmat(\"X_train_nnmpc.mat\")\n",
    "y = scipy.io.loadmat(\"y_train_nnmpc.mat\")"
   ],
   "metadata": {
    "collapsed": false,
    "pycharm": {
     "name": "#%%\n"
    }
   }
  },
  {
   "cell_type": "code",
   "execution_count": 10,
   "outputs": [
    {
     "data": {
      "text/plain": "{'__header__': b'MATLAB 5.0 MAT-file, Platform: MACI64, Created on: Sun May 31 22:20:51 2020',\n '__version__': '1.0',\n '__globals__': [],\n 'y_train_nnmpc': array([[-0.01432,  0.08944, 13.69237],\n        [ 0.05785,  0.06024, 12.81854],\n        [ 0.01456, -0.34623, 11.96521],\n        ...,\n        [-0.34395,  0.29669,  7.03248],\n        [-0.15769,  0.29727,  7.6887 ],\n        [-0.19847, -0.36397,  8.80287]])}"
     },
     "execution_count": 10,
     "metadata": {},
     "output_type": "execute_result"
    }
   ],
   "source": [
    "y"
   ],
   "metadata": {
    "collapsed": false,
    "pycharm": {
     "name": "#%%\n"
    }
   }
  },
  {
   "cell_type": "code",
   "execution_count": 11,
   "outputs": [],
   "source": [
    "scipy.io.savemat(\"quadRotorTrainDataReachSdp.mat\",{\"Xtrain\": x['X_train_nnmpc'], \"Ytrain\":y['y_train_nnmpc']})"
   ],
   "metadata": {
    "collapsed": false,
    "pycharm": {
     "name": "#%%\n"
    }
   }
  },
  {
   "cell_type": "code",
   "execution_count": 13,
   "outputs": [],
   "source": [
    "device = torch.device(\"cpu\")\n",
    "if torch.cuda.is_available():\n",
    "    device = torch.device(\"cuda:0\")\n",
    "\n",
    "trainCompleteLoop = False\n",
    "# with open('xs.pkl', 'rb') as f:\n",
    "#     Xtrain = pickle.load(f)\n",
    "#\n",
    "# with open('us.pkl', 'rb') as f:\n",
    "#     Ytrain = pickle.load(f)\n",
    "# fileName = \"fourDimTrainData.mat\"\n",
    "fileName = \"quadRotorTrainDataReachSdp.mat\"\n",
    "# data = loadmat(fileName)\n",
    "# XFull = data['X']\n",
    "# YFull = data['y']\n",
    "data = loadmat(fileName)\n",
    "XFull = data['Xtrain']\n",
    "YFull = data['Ytrain']\n",
    "# A = data['A']\n",
    "# B = data['B']\n",
    "if XFull.shape[0] < XFull.shape[1]:\n",
    "    XFull = XFull.T\n",
    "    YFull = YFull.T\n",
    "if \"quad\" in fileName:\n",
    "    A = np.zeros((6, 6), dtype=np.float32)\n",
    "    A[0, 3] = 1.\n",
    "    A[1, 4] = 1\n",
    "    A[2, 5] = 1\n",
    "\n",
    "    B = np.zeros((6, 3), dtype=np.float32)\n",
    "    B[3, 0] =  9.8\n",
    "    B[4, 1] = -9.8\n",
    "    B[5, 2] =  1\n",
    "\n",
    "    C = np.zeros((6, 1), dtype=np.float32)\n",
    "    C[5] = -9.8\n",
    "\n",
    "    A = np.eye(6) + A * 0.1\n",
    "    B = B * 0.1\n",
    "    C = C * 0.1\n",
    "    lastDim = 3\n",
    "elif \"doubleIntegrator\" in fileName:\n",
    "    A = np.array([[1, 1], [0, 1]])\n",
    "    B = np.array([[0.5], [1]])\n",
    "    lastDim = 1\n",
    "elif \"fourDim\" in fileName:\n",
    "    pass\n",
    "    lastDim = 2\n",
    "else:\n",
    "    raise ValueError\n",
    "\n",
    "if trainCompleteLoop:\n",
    "    YFull = (A @ XFull.T + B @ YFull.T + C).T\n",
    "    lastDim = 6\n",
    "\n",
    "# print(torch.linalg.norm(torch.Tensor(B)), torch.linalg.norm(torch.Tensor(A)))\n",
    "# raise\n",
    "# print(A)\n",
    "# print(B)\n",
    "# print(Xtrain.shape)\n",
    "# print(Ytrain.shape)\n",
    "dataSplit = 0.9\n",
    "trainSize = int(dataSplit * XFull.shape[0])\n",
    "\n",
    "\n",
    "# net = nn.Sequential(\n",
    "#     nn.Linear(4, 16),\n",
    "#     nn.ReLU(),\n",
    "#     nn.Linear(16, 16),\n",
    "#     nn.ReLU(),\n",
    "#     nn.Linear(16, 16),\n",
    "#     nn.ReLU(),\n",
    "#     nn.Linear(16, lastDim),)\n",
    "\n",
    "net = nn.Sequential(\n",
    "    nn.Linear(6, 32),\n",
    "    nn.ReLU(),\n",
    "    nn.Linear(32, 32),\n",
    "    nn.ReLU(),\n",
    "    nn.Linear(32, 32),\n",
    "    nn.ReLU(),\n",
    "    nn.Linear(32, 32),\n",
    "    nn.ReLU(),\n",
    "    nn.Linear(32, lastDim))\n",
    "numberOfLayers = (len(net) + 1) // 2\n",
    "net.to(device)\n",
    "train_batch_size = 64\n",
    "\n",
    "def my_loss(output, target):\n",
    "    prod = torch.linalg.norm(net[0].weight)\n",
    "    for i in range(1, numberOfLayers):\n",
    "        prod *= torch.linalg.norm(net[2 * i].weight)\n",
    "    loss = torch.mean((output - target)**2) + gamma * prod\n",
    "    return loss\n"
   ],
   "metadata": {
    "collapsed": false,
    "pycharm": {
     "name": "#%%\n"
    }
   }
  },
  {
   "cell_type": "code",
   "execution_count": 15,
   "outputs": [
    {
     "data": {
      "text/plain": "(3279, 3)"
     },
     "execution_count": 15,
     "metadata": {},
     "output_type": "execute_result"
    }
   ],
   "source": [
    "YFull.shape"
   ],
   "metadata": {
    "collapsed": false,
    "pycharm": {
     "name": "#%%\n"
    }
   }
  },
  {
   "cell_type": "code",
   "execution_count": 17,
   "outputs": [],
   "source": [
    "checkpointResume = False"
   ],
   "metadata": {
    "collapsed": false,
    "pycharm": {
     "name": "#%%\n"
    }
   }
  },
  {
   "cell_type": "code",
   "execution_count": 19,
   "outputs": [
    {
     "name": "stdout",
     "output_type": "stream",
     "text": [
      "epoch: 0 gamma 0 lambda: 4.0\n",
      "validation losses average:  tensor(0.00370449, device='cuda:0', grad_fn=<DivBackward0>)\n",
      "epoch: 0 gamma 0.0 lambda: 3.98799991607666\n",
      "MSE loss:  0.0045494195073843 , Norm of product: tensor(349.74884033, device='cuda:0')\n",
      "epoch: 10 gamma 0.0 lambda: 3.881606340408325\n",
      "validation losses average:  tensor(0.00359313, device='cuda:0', grad_fn=<DivBackward0>)\n",
      "epoch: 10 gamma 0.0 lambda: 3.8699615001678467\n",
      "MSE loss:  0.002211988437920809 , Norm of product: tensor(347.54269409, device='cuda:0')\n",
      "epoch: 20 gamma 0.0 lambda: 3.766716718673706\n",
      "validation losses average:  tensor(0.00327992, device='cuda:0', grad_fn=<DivBackward0>)\n",
      "epoch: 20 gamma 0.0 lambda: 3.7554163932800293\n",
      "MSE loss:  0.0019483842188492417 , Norm of product: tensor(345.52117920, device='cuda:0')\n",
      "epoch: 30 gamma 0.0 lambda: 3.6552278995513916\n",
      "validation losses average:  tensor(0.00254348, device='cuda:0', grad_fn=<DivBackward0>)\n",
      "epoch: 30 gamma 0.0 lambda: 3.6442620754241943\n",
      "MSE loss:  0.0038354801945388317 , Norm of product: tensor(343.73596191, device='cuda:0')\n",
      "epoch: 40 gamma 0.0 lambda: 3.5470387935638428\n",
      "validation losses average:  tensor(0.00245203, device='cuda:0', grad_fn=<DivBackward0>)\n",
      "epoch: 40 gamma 0.0 lambda: 3.536397695541382\n",
      "MSE loss:  0.0020659049041569233 , Norm of product: tensor(342.24832153, device='cuda:0')\n",
      "epoch: 50 gamma 0.0 lambda: 3.4420523643493652\n",
      "validation losses average:  tensor(0.00170766, device='cuda:0', grad_fn=<DivBackward0>)\n",
      "epoch: 50 gamma 0.0 lambda: 3.4317262172698975\n",
      "MSE loss:  0.0009939941810443997 , Norm of product: tensor(341.37655640, device='cuda:0')\n",
      "epoch: 60 gamma 0.0 lambda: 3.34017276763916\n",
      "validation losses average:  tensor(0.00131762, device='cuda:0', grad_fn=<DivBackward0>)\n",
      "epoch: 60 gamma 0.0 lambda: 3.3301522731781006\n",
      "MSE loss:  0.0008606007322669029 , Norm of product: tensor(339.63635254, device='cuda:0')\n",
      "epoch: 70 gamma 0.0 lambda: 3.2413089275360107\n",
      "validation losses average:  tensor(0.00110802, device='cuda:0', grad_fn=<DivBackward0>)\n",
      "epoch: 70 gamma 0.0 lambda: 3.2315850257873535\n",
      "MSE loss:  0.0007657118840143085 , Norm of product: tensor(337.07852173, device='cuda:0')\n",
      "epoch: 80 gamma 0.0 lambda: 3.145371437072754\n",
      "validation losses average:  tensor(0.00113184, device='cuda:0', grad_fn=<DivBackward0>)\n",
      "epoch: 80 gamma 0.0 lambda: 3.1359353065490723\n",
      "MSE loss:  0.0019653167109936476 , Norm of product: tensor(334.96554565, device='cuda:0')\n",
      "epoch: 90 gamma 0.0 lambda: 3.052273750305176\n",
      "validation losses average:  tensor(0.00089399, device='cuda:0', grad_fn=<DivBackward0>)\n",
      "epoch: 90 gamma 0.0 lambda: 3.043116807937622\n",
      "MSE loss:  0.00040492202970199287 , Norm of product: tensor(332.61135864, device='cuda:0')\n",
      "epoch: 100 gamma 0.0 lambda: 2.961930990219116\n",
      "validation losses average:  tensor(0.00110526, device='cuda:0', grad_fn=<DivBackward0>)\n",
      "epoch: 100 gamma 0.0 lambda: 2.953045129776001\n",
      "MSE loss:  0.0008203021716326475 , Norm of product: tensor(330.40362549, device='cuda:0')\n",
      "epoch: 110 gamma 0.0 lambda: 2.8742623329162598\n",
      "validation losses average:  tensor(0.00089548, device='cuda:0', grad_fn=<DivBackward0>)\n",
      "epoch: 110 gamma 0.0 lambda: 2.8656394481658936\n",
      "MSE loss:  0.0008833465399220586 , Norm of product: tensor(328.76293945, device='cuda:0')\n",
      "epoch: 120 gamma 0.0 lambda: 2.7891886234283447\n",
      "validation losses average:  tensor(0.00127225, device='cuda:0', grad_fn=<DivBackward0>)\n",
      "epoch: 120 gamma 0.0 lambda: 2.7808210849761963\n",
      "MSE loss:  0.000511341670062393 , Norm of product: tensor(327.24740601, device='cuda:0')\n",
      "epoch: 130 gamma 0.0 lambda: 2.7066333293914795\n",
      "validation losses average:  tensor(0.00086002, device='cuda:0', grad_fn=<DivBackward0>)\n",
      "epoch: 130 gamma 0.0 lambda: 2.6985132694244385\n",
      "MSE loss:  0.0007766518974676728 , Norm of product: tensor(325.87017822, device='cuda:0')\n",
      "epoch: 140 gamma 0.0 lambda: 2.626520872116089\n",
      "validation losses average:  tensor(0.00065783, device='cuda:0', grad_fn=<DivBackward0>)\n",
      "epoch: 140 gamma 0.0 lambda: 2.6186411380767822\n",
      "MSE loss:  0.0005218196311034262 , Norm of product: tensor(324.77905273, device='cuda:0')\n",
      "epoch: 150 gamma 0.0 lambda: 2.5487794876098633\n",
      "validation losses average:  tensor(0.00065672, device='cuda:0', grad_fn=<DivBackward0>)\n",
      "epoch: 150 gamma 0.0 lambda: 2.541133165359497\n",
      "MSE loss:  0.0007010959088802338 , Norm of product: tensor(323.76095581, device='cuda:0')\n",
      "epoch: 160 gamma 0.0 lambda: 2.473339557647705\n",
      "validation losses average:  tensor(0.00055239, device='cuda:0', grad_fn=<DivBackward0>)\n",
      "epoch: 160 gamma 0.0 lambda: 2.4659194946289062\n",
      "MSE loss:  0.00030859053367748857 , Norm of product: tensor(322.77896118, device='cuda:0')\n",
      "epoch: 170 gamma 0.0 lambda: 2.400132417678833\n",
      "validation losses average:  tensor(0.00049964, device='cuda:0', grad_fn=<DivBackward0>)\n",
      "epoch: 170 gamma 0.0 lambda: 2.3929319381713867\n",
      "MSE loss:  0.0004966601263731718 , Norm of product: tensor(321.94265747, device='cuda:0')\n",
      "epoch: 180 gamma 0.0 lambda: 2.329092264175415\n",
      "validation losses average:  tensor(0.00047364, device='cuda:0', grad_fn=<DivBackward0>)\n",
      "epoch: 180 gamma 0.0 lambda: 2.3221049308776855\n",
      "MSE loss:  0.0002253684651805088 , Norm of product: tensor(321.01586914, device='cuda:0')\n",
      "epoch: 190 gamma 0.0 lambda: 2.260154962539673\n",
      "validation losses average:  tensor(0.00058941, device='cuda:0', grad_fn=<DivBackward0>)\n",
      "epoch: 190 gamma 0.0 lambda: 2.2533743381500244\n",
      "MSE loss:  0.0009332996560260653 , Norm of product: tensor(320.32376099, device='cuda:0')\n",
      "epoch: 200 gamma 0.0 lambda: 2.193258047103882\n",
      "validation losses average:  tensor(0.00043502, device='cuda:0', grad_fn=<DivBackward0>)\n",
      "epoch: 200 gamma 0.0 lambda: 2.186678171157837\n",
      "MSE loss:  0.00032261715386994183 , Norm of product: tensor(319.69415283, device='cuda:0')\n",
      "epoch: 210 gamma 0.0 lambda: 2.1283411979675293\n",
      "validation losses average:  tensor(0.00046113, device='cuda:0', grad_fn=<DivBackward0>)\n",
      "epoch: 210 gamma 0.0 lambda: 2.1219561100006104\n",
      "MSE loss:  0.0004515480250120163 , Norm of product: tensor(319.14065552, device='cuda:0')\n",
      "epoch: 220 gamma 0.0 lambda: 2.065345525741577\n",
      "validation losses average:  tensor(0.00044793, device='cuda:0', grad_fn=<DivBackward0>)\n",
      "epoch: 220 gamma 0.0 lambda: 2.0591495037078857\n",
      "MSE loss:  0.0003636526525951922 , Norm of product: tensor(318.70239258, device='cuda:0')\n",
      "epoch: 230 gamma 0.0 lambda: 2.0042145252227783\n",
      "validation losses average:  tensor(0.00048773, device='cuda:0', grad_fn=<DivBackward0>)\n",
      "epoch: 230 gamma 0.0 lambda: 1.998201847076416\n",
      "MSE loss:  0.00026585947489365935 , Norm of product: tensor(318.25061035, device='cuda:0')\n",
      "epoch: 240 gamma 0.0 lambda: 1.998201847076416\n",
      "validation losses average:  tensor(0.00041965, device='cuda:0', grad_fn=<DivBackward0>)\n",
      "epoch: 240 gamma 0.0 lambda: 1.998201847076416\n",
      "MSE loss:  0.000176529967575334 , Norm of product: tensor(317.75466919, device='cuda:0')\n",
      "epoch: 250 gamma 0.0 lambda: 1.998201847076416\n",
      "validation losses average:  tensor(0.00042096, device='cuda:0', grad_fn=<DivBackward0>)\n",
      "epoch: 250 gamma 0.0 lambda: 1.998201847076416\n",
      "MSE loss:  0.0005510640330612659 , Norm of product: tensor(317.47543335, device='cuda:0')\n",
      "epoch: 260 gamma 0.0 lambda: 1.998201847076416\n",
      "validation losses average:  tensor(0.00039195, device='cuda:0', grad_fn=<DivBackward0>)\n",
      "epoch: 260 gamma 0.0 lambda: 1.998201847076416\n",
      "MSE loss:  0.00018632327555678785 , Norm of product: tensor(317.08792114, device='cuda:0')\n",
      "epoch: 270 gamma 0.0 lambda: 1.998201847076416\n",
      "validation losses average:  tensor(0.00040850, device='cuda:0', grad_fn=<DivBackward0>)\n",
      "epoch: 270 gamma 0.0 lambda: 1.998201847076416\n",
      "MSE loss:  0.0004342849424574524 , Norm of product: tensor(316.76113892, device='cuda:0')\n",
      "epoch: 280 gamma 0.0 lambda: 1.998201847076416\n",
      "validation losses average:  tensor(0.00037478, device='cuda:0', grad_fn=<DivBackward0>)\n",
      "epoch: 280 gamma 0.0 lambda: 1.998201847076416\n",
      "MSE loss:  0.00026836738106794655 , Norm of product: tensor(316.57586670, device='cuda:0')\n",
      "epoch: 290 gamma 0.0 lambda: 1.998201847076416\n",
      "validation losses average:  tensor(0.00037047, device='cuda:0', grad_fn=<DivBackward0>)\n",
      "epoch: 290 gamma 0.0 lambda: 1.998201847076416\n",
      "MSE loss:  0.00034332252107560635 , Norm of product: tensor(316.29522705, device='cuda:0')\n"
     ]
    }
   ],
   "source": [
    "gammaScheduler = 1.01\n",
    "gammaStopThreshold = 1e-5\n",
    "lambdaVal = torch.Tensor([4.]).to(device)\n",
    "minimumLambda = 2\n",
    "lambdaScheduler = 0.997\n",
    "net.train()\n",
    "optimizer = optim.Adam(net.parameters(), lr=1e-3)\n",
    "scheduler = optim.lr_scheduler.ExponentialLR(optimizer, gamma=0.99)\n",
    "if checkpointResume:\n",
    "    checkpointDictionary = torch.load(\"checkpoint.pth\")\n",
    "    optimizer.load_state_dict(checkpointDictionary[\"optimizerStateDict\"])\n",
    "    scheduler.load_state_dict(checkpointDictionary[\"schedulerState\"])\n",
    "    net.load_state_dict(checkpointDictionary[\"networkStateDict\"])\n",
    "    bestStateDict = checkpointDictionary[\"bestStateDict\"]\n",
    "    bestLoss = checkpointDictionary[\"bestLoss\"]\n",
    "    trainLosses = checkpointDictionary['trainLosses']\n",
    "    validationLosses = checkpointDictionary['validationLosses']\n",
    "    gamma = checkpointDictionary['gamma']\n",
    "    trainset = checkpointDictionary['trainSet']\n",
    "    testSet = checkpointDictionary['testSet']\n",
    "\n",
    "\n",
    "    # epoch = checkpointDictionary['maxEpoch']\n",
    "    startingEpoch = checkpointDictionary['epoch']\n",
    "    epoch = 1000\n",
    "else:\n",
    "\n",
    "    trainset, testSet = torch.utils.data.random_split(torch.utils.data.TensorDataset(torch.Tensor(XFull), torch.Tensor(YFull)), [trainSize, XFull.shape[0] - trainSize])\n",
    "    startingEpoch = 0\n",
    "    epoch = 300\n",
    "    trainLosses = []\n",
    "    validationLosses = []\n",
    "    # gamma = 1e-7\n",
    "    gamma = 0\n",
    "    bestStateDict = None\n",
    "    bestLoss = 100000\n",
    "    criterion = my_loss\n",
    "trainloader = torch.utils.data.DataLoader(trainset, batch_size=train_batch_size, shuffle=True,\n",
    "                                          num_workers=2)\n",
    "testLoader = torch.utils.data.DataLoader(testSet, batch_size=train_batch_size, num_workers=2)\n",
    "loaders = {\"train\": trainloader, \"eval\": testLoader}\n",
    "\n",
    "\n",
    "for t in range(startingEpoch, epoch):\n",
    "    for phase in {\"train\", 'eval'}:\n",
    "        if phase == \"train\":\n",
    "            net.train()\n",
    "        else:\n",
    "            net.eval()\n",
    "        tempValidationLosses = []\n",
    "        for i, (X, Y) in enumerate(loaders[phase]):\n",
    "\n",
    "            X = X.to(device)\n",
    "            Y = Y.to(device)\n",
    "            out = net(X)\n",
    "            loss = criterion(out, Y)\n",
    "\n",
    "            if phase == \"train\":\n",
    "                loss.backward()\n",
    "                optimizer.step()\n",
    "\n",
    "                with torch.no_grad():\n",
    "                    optimizer.zero_grad()\n",
    "                    # for j in range(numberOfLayers):\n",
    "                    #     net[2 * j].weight /= torch.maximum(torch.tensor([1.]).to(device), (torch.linalg.norm(net[2 * j].weight) / lambdaVal))\n",
    "            else:\n",
    "                tempValidationLosses.append(loss)\n",
    "                if loss < bestLoss:\n",
    "                    bestLoss = loss\n",
    "                    bestStateDict = net.state_dict()\n",
    "                    torch.save(bestStateDict, \"tempBestStateDict.pth\")\n",
    "        if phase == \"train\":\n",
    "            scheduler.step()\n",
    "            # if gamma > gammaStopThreshold:\n",
    "            if gamma < gammaStopThreshold:\n",
    "                gamma *= gammaScheduler\n",
    "            if lambdaVal > minimumLambda:\n",
    "                lambdaVal *= lambdaScheduler\n",
    "            trainLosses.append(loss.item())\n",
    "            checkpointDictionary = \\\n",
    "                {\"optimizerStateDict\": optimizer.state_dict(),\n",
    "                \"schedulerState\": scheduler.state_dict(),\n",
    "                 \"networkStateDict\": net.state_dict(),\n",
    "                 \"bestStateDict\": bestStateDict,\n",
    "                 \"bestLoss\": bestLoss,\n",
    "                 \"trainLosses\": trainLosses,\n",
    "                 \"validationLosses\": validationLosses,\n",
    "                 \"epoch\": t,\n",
    "                 \"maxEpoch\": epoch,\n",
    "                 \"gamma\": gamma,\n",
    "                 \"trainSet\": trainset,\n",
    "                 \"testSet\": testSet}\n",
    "            torch.save(checkpointDictionary, \"checkpoint.pth\")\n",
    "        else:\n",
    "            validationLosses.append(sum(tempValidationLosses[:-1]) / (len(tempValidationLosses) - 1))\n",
    "        if np.mod(t, 10) == 0:\n",
    "            print(\"epoch:\", t, \"gamma\", gamma, \"lambda:\", lambdaVal.item())\n",
    "            if phase == \"train\":\n",
    "                with torch.no_grad():\n",
    "                    prod = torch.linalg.norm(net[0].weight)\n",
    "                    for i in range(1, numberOfLayers):\n",
    "                        prod *= torch.linalg.norm(net[2 * i].weight)\n",
    "                    print('MSE loss: ', loss.item(), \", Norm of product:\", prod)\n",
    "            else:\n",
    "                print(\"validation losses average: \", validationLosses[-1])\n",
    "\n",
    "\n",
    "\n",
    "\n"
   ],
   "metadata": {
    "collapsed": false,
    "pycharm": {
     "name": "#%%\n"
    }
   }
  },
  {
   "cell_type": "code",
   "execution_count": 43,
   "outputs": [],
   "source": [
    "checkpointDictionary = \\\n",
    "    {\"optimizerStateDict\": optimizer.state_dict(),\n",
    "    \"schedulerState\": scheduler.state_dict(),\n",
    "     \"networkStateDict\": net.state_dict(),\n",
    "     \"bestStateDict\": bestStateDict,\n",
    "     \"bestLoss\": bestLoss,\n",
    "     \"trainLosses\": trainLosses,\n",
    "     \"validationLosses\": validationLosses,\n",
    "     \"epoch\": t,\n",
    "     \"maxEpoch\": epoch,\n",
    "     \"gamma\": gamma,\n",
    "     \"trainSet\": trainset,\n",
    "     \"testSet\": testSet}\n",
    "torch.save(checkpointDictionary, \"checkpoint.pth\")"
   ],
   "metadata": {
    "collapsed": false,
    "pycharm": {
     "name": "#%%\n"
    }
   }
  },
  {
   "cell_type": "code",
   "execution_count": 20,
   "outputs": [
    {
     "data": {
      "text/plain": "(4.692507930625227, 4.802495848532838, 4.69725583944506, 4.702747801646405)"
     },
     "execution_count": 20,
     "metadata": {},
     "output_type": "execute_result"
    },
    {
     "data": {
      "text/plain": "<Figure size 640x480 with 1 Axes>",
      "image/png": "[encoded data removed]"
     },
     "metadata": {},
     "output_type": "display_data"
    }
   ],
   "source": [
    "dim = 6\n",
    "device = torch.device(\"cpu\")\n",
    "net.to(device)\n",
    "lowerCoordinate = torch.Tensor([4.6975, 4.6975, 2.9975, 0.9499, -0.0001, -0.0001]).to(device)\n",
    "upperCoordinate = torch.Tensor([4.7025, 4.7025 ,3.0025, 0.9501,  0.0001,  0.0001 ]).to(device)\n",
    "inputData = (upperCoordinate - lowerCoordinate) * torch.rand(1000, dim, device=device) \\\n",
    "                                                        + lowerCoordinate\n",
    "plt.scatter(inputData[:, 0], inputData[:, 1], marker='.', label='Initial', alpha=0.5)\n",
    "outputData = net(inputData).detach().cpu().numpy()\n",
    "if lastDim == 3:\n",
    "    outputData = (A @ inputData.detach().cpu().numpy().T + B @ outputData.T + C).T\n",
    "plt.scatter(outputData[:, 0], outputData[:, 1], marker='.', label='Initial', alpha=0.5)\n",
    "plt.axis(\"equal\")"
   ],
   "metadata": {
    "collapsed": false,
    "pycharm": {
     "name": "#%%\n"
    }
   }
  },
  {
   "cell_type": "code",
   "execution_count": 37,
   "outputs": [
    {
     "data": {
      "text/plain": "torch.Size([100, 6])"
     },
     "execution_count": 37,
     "metadata": {},
     "output_type": "execute_result"
    }
   ],
   "source": [
    "net[0].weight.shape"
   ],
   "metadata": {
    "collapsed": false,
    "pycharm": {
     "name": "#%%\n"
    }
   }
  },
  {
   "cell_type": "code",
   "execution_count": null,
   "outputs": [],
   "source": [
    "device = torch.device(\"cpu\")\n",
    "if torch.cuda.is_available():\n",
    "    device = torch.device(\"cuda:0\")\n",
    "\n",
    "lastDim = 6\n",
    "net = nn.Sequential(\n",
    "    nn.Linear(6, 64),\n",
    "    nn.ReLU(),\n",
    "    nn.Linear(64, 64),\n",
    "    nn.ReLU(),\n",
    "    nn.Linear(64, 64),\n",
    "    nn.ReLU(),\n",
    "    nn.Linear(64, lastDim))\n",
    "\n",
    "net.to(device)\n",
    "net.load_state_dict(torch.load(\"tempBestStateDict.pth\"))"
   ],
   "metadata": {
    "collapsed": false,
    "pycharm": {
     "name": "#%%\n"
    }
   }
  },
  {
   "cell_type": "code",
   "execution_count": null,
   "outputs": [],
   "source": [
    "trainCompleteLoop = True"
   ],
   "metadata": {
    "collapsed": false,
    "pycharm": {
     "name": "#%%\n"
    }
   }
  },
  {
   "cell_type": "code",
   "execution_count": 21,
   "outputs": [
    {
     "name": "stdout",
     "output_type": "stream",
     "text": [
      "best loss:  tensor(0.00020069, device='cuda:0', grad_fn=<AddBackward0>)\n",
      "2\n"
     ]
    }
   ],
   "source": [
    "print(\"best loss: \", bestLoss)\n",
    "# net.load_state_dict(bestStateDict)\n",
    "layers = []\n",
    "dimensions = [net[0].weight.shape[1]]\n",
    "# for i in range(len(net)):\n",
    "#     if i % 2 == 0:\n",
    "#         dimensions.append(net[i].weight.shape[0])\n",
    "# for i in range(len(dimensions) - 1):\n",
    "#     layers.append(nn.Linear(dimensions[i], dimensions[i + 1]))\n",
    "#     if i < len(dimensions) - 2:\n",
    "#         layers.append(nn.ReLU())\n",
    "# network = nn.Sequential(*layers)\n",
    "networkClass = NeuralNetwork(\"../randomNetwork.pth\")\n",
    "\n",
    "networkClass.Linear = net\n",
    "if trainCompleteLoop:\n",
    "    print(\"1\")\n",
    "    torch.save(networkClass.state_dict(), \"../quadRotorFullLoopV1.9.pth\")\n",
    "else:\n",
    "    print(\"2\")\n",
    "    torch.save(networkClass.state_dict(), \"../quadRotorNormalV3.0.pth\")\n",
    "    # torch.save(networkClass.state_dict(), \"../fourDimV1.0.pth\")"
   ],
   "metadata": {
    "collapsed": false,
    "pycharm": {
     "name": "#%%\n"
    }
   }
  },
  {
   "cell_type": "code",
   "execution_count": 20,
   "outputs": [],
   "source": [
    "weights = []\n",
    "biases = []\n",
    "for i in range(len(net)):\n",
    "    if i % 2 == 0:\n",
    "        weights.append(net[i].weight.clone().detach().cpu().numpy())\n",
    "        biases.append(net[i].bias.clone().detach().cpu().unsqueeze(1).numpy())\n",
    "torch.save({\"biases\": biases, \"weights\": weights, \"AMatrix\": A, \"BMatrix\": B}, \"../fourDimV1.0.pth\")"
   ],
   "metadata": {
    "collapsed": false,
    "pycharm": {
     "name": "#%%\n"
    }
   }
  },
  {
   "cell_type": "code",
   "execution_count": null,
   "outputs": [],
   "source": [
    "plt.plot(trainLosses)\n",
    "plt.plot([validationLoss.item() for validationLoss in validationLosses])\n",
    "plt.legend([\"train loss\", \"validation loss\"])"
   ],
   "metadata": {
    "collapsed": false,
    "pycharm": {
     "name": "#%%\n"
    }
   }
  },
  {
   "cell_type": "code",
   "execution_count": null,
   "outputs": [],
   "source": [],
   "metadata": {
    "collapsed": false,
    "pycharm": {
     "name": "#%%\n"
    }
   }
  },
  {
   "cell_type": "code",
   "execution_count": null,
   "outputs": [],
   "source": [],
   "metadata": {
    "collapsed": false,
    "pycharm": {
     "name": "#%%\n"
    }
   }
  },
  {
   "cell_type": "code",
   "execution_count": null,
   "outputs": [],
   "source": [],
   "metadata": {
    "collapsed": false,
    "pycharm": {
     "name": "#%%\n"
    }
   }
  },
  {
   "cell_type": "code",
   "execution_count": 9,
   "outputs": [],
   "source": [
    "print(\"best loss: \", bestLoss)\n",
    "net.load_state_dict(bestStateDict)\n",
    "layers = []\n",
    "dimensions = [net[0].weight.shape[1]]\n",
    "# for i in range(len(net)):\n",
    "#     if i % 2 == 0:\n",
    "#         dimensions.append(net[i].weight.shape[0])\n",
    "# for i in range(len(dimensions) - 1):\n",
    "#     layers.append(nn.Linear(dimensions[i], dimensions[i + 1]))\n",
    "#     if i < len(dimensions) - 2:\n",
    "#         layers.append(nn.ReLU())\n",
    "# network = nn.Sequential(*layers)\n",
    "networkClass = NeuralNetwork(\"../randomNetwork.pth\")\n",
    "\n",
    "networkClass.Linear = net\n",
    "if trainCompleteLoop:\n",
    "    torch.save(networkClass.state_dict(), \"../quadRotorFullLoopV1.1.pth\")\n",
    "else:\n",
    "    torch.save(networkClass.state_dict(), \"../quadRotorNormalV1.1.pth\")"
   ],
   "metadata": {
    "collapsed": false,
    "pycharm": {
     "name": "#%%\n"
    }
   }
  },
  {
   "cell_type": "code",
   "execution_count": null,
   "outputs": [],
   "source": [
    "plt.plot(trainLosses)\n",
    "plt.plot([validationLoss.item() for validationLoss in validationLosses])\n",
    "plt.legend([\"train loss\", \"validation loss\"])"
   ],
   "metadata": {
    "collapsed": false,
    "pycharm": {
     "name": "#%%\n"
    }
   }
  },
  {
   "cell_type": "code",
   "execution_count": null,
   "outputs": [],
   "source": [],
   "metadata": {
    "collapsed": false,
    "pycharm": {
     "name": "#%%\n"
    }
   }
  },
  {
   "cell_type": "code",
   "execution_count": 3,
   "outputs": [
    {
     "data": {
      "text/plain": "7"
     },
     "execution_count": 3,
     "metadata": {},
     "output_type": "execute_result"
    }
   ],
   "source": [],
   "metadata": {
    "collapsed": false,
    "pycharm": {
     "name": "#%%\n"
    }
   }
  },
  {
   "cell_type": "code",
   "execution_count": 13,
   "metadata": {
    "pycharm": {
     "name": "#%%\n"
    }
   },
   "outputs": [
    {
     "data": {
      "text/plain": "(11457, 6)"
     },
     "execution_count": 13,
     "metadata": {},
     "output_type": "execute_result"
    }
   ],
   "source": []
  }
 ],
 "metadata": {
  "kernelspec": {
   "display_name": "Python 3.8.10 64-bit",
   "language": "python",
   "name": "python3"
  },
  "language_info": {
   "codemirror_mode": {
    "name": "ipython",
    "version": 3
   },
   "file_extension": ".py",
   "mimetype": "text/x-python",
   "name": "python",
   "nbconvert_exporter": "python",
   "pygments_lexer": "ipython3",
   "version": "3.8.10"
  },
  "orig_nbformat": 4,
  "vscode": {
   "interpreter": {
    "hash": "916dbcbb3f70747c44a77c7bcd40155683ae19c65e1c03b4aa3499c5328201f1"
   }
  }
 },
 "nbformat": 4,
 "nbformat_minor": 2
}
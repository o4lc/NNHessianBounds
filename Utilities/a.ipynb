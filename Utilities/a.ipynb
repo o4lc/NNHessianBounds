{
 "cells": [
  {
   "cell_type": "code",
   "execution_count": 108,
   "metadata": {},
   "outputs": [],
   "source": [
    "from fileinput import filename\n",
    "# from nbformat import write\n",
    "\n",
    "import os\n",
    "import matplotlib.pyplot as plt\n",
    "import numpy as np\n",
    "import matplotlib.patches as patches\n",
    "import matplotlib.animation as animation\n",
    "\n",
    "class Plotter:\n",
    "    def __init__(self, plotCounter = 0, savingDirectory='./Output/'):\n",
    "        self.plotCounter = plotCounter\n",
    "        self.savingDirectory = savingDirectory\n",
    "        self.images = []\n",
    "        fileNames = next(os.walk(self.savingDirectory), (None, None, []))[2]\n",
    "\n",
    "        fig = plt.figure()\n",
    "        self.ax = fig.add_subplot(111)\n",
    "\n",
    "        # for fileName in fileNames:\n",
    "        #     os.remove(self.savingDirectory + fileName)\n",
    "\n",
    "    def plotSpace(self, space, lowCoord, upperCoord):\n",
    "        plt.rcParams[\"figure.figsize\"] = [7.00, 7.00]\n",
    "        plt.rcParams[\"figure.autolayout\"] = True\n",
    "        self.ax.set_aspect('equal', adjustable='box')\n",
    "\n",
    "        # rectangle = patches.Rectangle((lowCoord[0], lowCoord[1]), upperCoord[0] - lowCoord[0], upperCoord[1] - lowCoord[1], \n",
    "        #                             edgecolor='blue', facecolor='white', linewidth=7, alpha=0.5)\n",
    "        # self.ax.add_patch(rectangle)\n",
    "        # print(space)\n",
    "        for node in space:\n",
    "            # rectangle = patches.Rectangle((node.coordLower[0], node.coordLower[1]), \n",
    "            #                             node.coordUpper[0] - node.coordLower[0], \n",
    "            #                             node.coordUpper[1] - node.coordLower[1], \n",
    "            #                             edgecolor=None, facecolor=\"green\", linewidth=7, alpha=0.3)\n",
    "            # self.ax.add_patch(rectangle)\n",
    "            self.ax.vlines(x=node.coordLower[0], ymin=node.coordLower[1], \n",
    "                                ymax=node.coordUpper[1], color='blue', linestyle='--', alpha=0.5, linewidth=2)\n",
    "            \n",
    "            self.ax.vlines(x=node.coordUpper[0], ymin=node.coordLower[1], \n",
    "                                ymax=node.coordUpper[1], color='blue', linestyle='--', alpha=0.5, linewidth=2)\n",
    "            \n",
    "            self.ax.hlines(y=node.coordLower[1], xmin=node.coordLower[0], \n",
    "                                xmax=node.coordUpper[0], color='blue', linestyle='--', alpha=0.5, linewidth=2)\n",
    "            \n",
    "            self.ax.hlines(y=node.coordUpper[1], xmin=node.coordLower[0], \n",
    "                                xmax=node.coordUpper[0], color='blue', linestyle='--', alpha=0.5, linewidth=2)\n",
    "        plt.xlim([lowCoord[0] - 0.2, upperCoord[0] + 0.2])\n",
    "        plt.ylim([lowCoord[1] - 0.2, upperCoord[1] + 0.2])\n",
    "        plt.axis('off')\n",
    "        plt.savefig(self.savingDirectory + str(self.plotCounter))\n",
    "        self.plotCounter += 1\n",
    "\n",
    "    def showAnimation(self, space, currDim):\n",
    "        # Closing any previous open plots\n",
    "        # for j in range(len(plt.get_fignums())):\n",
    "        #     plt.close()\n",
    "\n",
    "        # Creating the gif with the saved pictures\n",
    "        fig, ax = plt.subplots()\n",
    "        ax.set_aspect('equal', adjustable='box')\n",
    "        plt.axis('off')\n",
    "\n",
    "        num = len(next(os.walk(self.savingDirectory), (None, None, []))[2])\n",
    "        self.images = []\n",
    "        for i in range(1, num-1):\n",
    "            image = plt.imread(str(self.savingDirectory + str(i) + '.png'))\n",
    "            im = ax.imshow(image, animated=True)\n",
    "            self.images.append([im])\n",
    "\n",
    "        plt.close()\n",
    "        # image = plt.imread(str(self.savingDirectory + space[0].scoreFunction + '.png'))\n",
    "        ani = animation.ArtistAnimation(fig, self.images, interval=3000, blit=True,\n",
    "                                repeat_delay=2000)\n",
    "        \n",
    "        # # Clearing the Directory\n",
    "        # fileNames = next(os.walk(self.savingDirectory), (None, None, []))[2]\n",
    "        # for fileName in fileNames:\n",
    "        #     os.remove(self.savingDirectory + fileName)\n",
    "\n",
    "        plt.axis('off')\n",
    "        # ax = plt.gca()\n",
    "        # ax.axes.xaxis.set_ticklabels([])\n",
    "        # plt.title('Branch and Bound Sequence')\n",
    "        # plt.xlabel('$x_0$')\n",
    "        # plt.ylabel('$x_1$')\n",
    "        writergif = animation.PillowWriter(fps=2) \n",
    "        ani.save(self.savingDirectory + 'Branch&Bound.gif', writer=writergif)\n",
    "\n",
    "        # ax.imshow(image)\n",
    "        # plt.savefig(self.savingDirectory + str(currDim))\n",
    "        # plt.close()\n",
    "\n",
    "        plt.show()\n",
    "\n",
    "        # plt.show()\n",
    "\n",
    "\n",
    "       "
   ]
  },
  {
   "cell_type": "code",
   "execution_count": 109,
   "metadata": {},
   "outputs": [],
   "source": [
    "import numpy as np\n",
    "import torch\n",
    "\n",
    "\n",
    "class BB_node:\n",
    "    def __init__(self,  up=np.infty, low=-np.infty, coordUp: torch.Tensor=None, coordLow: torch.Tensor=None,\n",
    "                        scoreFunction='length', depth=0, lipschitzConstant=None):\n",
    "        self.upper = up\n",
    "        self.lower = low\n",
    "        self.coordUpper = coordUp\n",
    "        self.coordLower = coordLow\n",
    "        self.scoreFunction = scoreFunction\n",
    "        self.score = None\n",
    "        self.lipschitzConstant = lipschitzConstant\n",
    "        self.depth = depth\n",
    "\n",
    "    def __repr__(self):\n",
    "        return str(self.coordLower) + ' ≤ ' + str(self.coordUpper)"
   ]
  },
  {
   "cell_type": "code",
   "execution_count": 110,
   "metadata": {},
   "outputs": [
    {
     "data": {
      "image/png": "[encoded data removed]",
      "text/plain": [
       "<Figure size 700x700 with 1 Axes>"
      ]
     },
     "metadata": {},
     "output_type": "display_data"
    }
   ],
   "source": [
    "plter = Plotter()\n",
    "\n",
    "# space = [BB_node(np.infty, -np.infty, [0, 0], [1, 1], scoreFunction=0, depth=0)]\n",
    "space = []\n",
    "plter.plotSpace([], [0, 0], [1, 1])\n",
    "\n",
    "space.append(BB_node(np.infty, -np.infty, [0, 0], [1, 1/2], scoreFunction=1, depth=1))\n",
    "space.append(BB_node(np.infty, -np.infty, [0, 1/2], [1, 1], scoreFunction=1, depth=1))\n",
    "plter.plotSpace(space, [0, 0], [1, 1])\n",
    "\n",
    "space.append(BB_node(np.infty, -np.infty, [0, 0], [1/2, 1/2], scoreFunction=1, depth=1))\n",
    "space.append(BB_node(np.infty, -np.infty, [1/2, 0], [1, 1/2], scoreFunction=1, depth=1))\n",
    "plter.plotSpace(space, [0, 0], [1, 1])\n",
    "\n",
    "space.append(BB_node(np.infty, -np.infty, [1/2, 0], [1, 1/4], scoreFunction=1, depth=1))\n",
    "space.append(BB_node(np.infty, -np.infty, [1/2, 1/4], [1, 1/2], scoreFunction=1, depth=1))\n",
    "plter.plotSpace(space, [0, 0], [1, 1])\n",
    "\n",
    "space.append(BB_node(np.infty, -np.infty, [1/2, 0], [3/4, 1/4], scoreFunction=1, depth=1))\n",
    "space.append(BB_node(np.infty, -np.infty, [3/4, 1/4], [1, 1/4], scoreFunction=1, depth=1))\n",
    "plter.plotSpace(space, [0, 0], [1, 1])"
   ]
  },
  {
   "cell_type": "code",
   "execution_count": 111,
   "metadata": {},
   "outputs": [
    {
     "data": {
      "image/png": "[encoded data removed]",
      "text/plain": [
       "<Figure size 700x700 with 1 Axes>"
      ]
     },
     "metadata": {},
     "output_type": "display_data"
    }
   ],
   "source": [
    "plter.showAnimation([], 100)"
   ]
  },
  {
   "cell_type": "code",
   "execution_count": null,
   "metadata": {},
   "outputs": [],
   "source": []
  }
 ],
 "metadata": {
  "kernelspec": {
   "display_name": "Python 3",
   "language": "python",
   "name": "python3"
  },
  "language_info": {
   "codemirror_mode": {
    "name": "ipython",
    "version": 3
   },
   "file_extension": ".py",
   "mimetype": "text/x-python",
   "name": "python",
   "nbconvert_exporter": "python",
   "pygments_lexer": "ipython3",
   "version": "3.10.6"
  },
  "orig_nbformat": 4
 },
 "nbformat": 4,
 "nbformat_minor": 2
}
